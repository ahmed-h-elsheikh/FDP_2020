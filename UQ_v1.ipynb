{
 "cells": [
  {
   "cell_type": "code",
   "execution_count": null,
   "metadata": {},
   "outputs": [],
   "source": [
    "# [Run in google colab](https://colab.research.google.com/github/ahmed-h-elsheikh/FDP_2020/blob/master/UQ_v1.ipynb)\n",
    "# %matplotlib inline\n",
    "# %matplotlib notebook\n",
    "# # import matplotlib\n",
    "# import matplotlib.pyplot as plt\n",
    "# # for latex equations\n",
    "# from IPython.display import Math, Latex\n",
    "# # for displaying images\n",
    "# from IPython.core.display import Image\n",
    "\n",
    "%matplotlib inline\n",
    "import matplotlib.pyplot as plt\n",
    "plt.style.use('seaborn-white')\n",
    "\n",
    "# import seaborn as sns\n",
    "# sns.set(color_codes=True)\n",
    "\n",
    "import numpy as np\n",
    "from numpy import random as rand\n",
    "from scipy import stats"
   ]
  },
  {
   "cell_type": "code",
   "execution_count": null,
   "metadata": {
    "colab": {},
    "colab_type": "code",
    "id": "ScI-VEK9Zphb"
   },
   "outputs": [],
   "source": [
    "def plot_distribution(x, axs=None, figsize_=(15,8), bins_=100, kde_=True, cumulative_=False, xlabel='Distribution'):\n",
    "    # plot the data\n",
    "    if axs == None:\n",
    "        fig, axs = plt.subplots(figsize=figsize_)\n",
    "    axs.hist(x, density=False, bins=bins_, facecolor='b', alpha=0.5)\n",
    "    axs.grid(alpha=0.75)\n",
    "    axs.set_xlabel(xlabel)\n",
    "    axs.set_ylabel('Count')\n",
    "\n",
    "    # ax = sns.distplot(x,\n",
    "    #                   bins=bins_,\n",
    "    #                   kde=kde_,\n",
    "    #                   hist_kws={'cumulative': cumulative_}, \n",
    "    #                   kde_kws={'cumulative': cumulative_},\n",
    "    #                   color='skyblue')\n",
    "    # ax.set(xlabel=xlabel, ylabel='Frequency')\n",
    "\n",
    "def plot_ecdf(x, axs=None, figsize_=(15,8), bins_=100, xlabel='Data'):\n",
    "    if axs == None:\n",
    "        fig, axs = plt.subplots(figsize=figsize_)\n",
    "    axs.hist(STOIIP,cumulative=True, density=True, bins=bins_, alpha=0.5)\n",
    "    # plt.text(60, .025, '$P_{10}={:e},\\\\ P_{50}={:e},\\\\ P_90={:e}$'.format(p_10, p_50, p_90))\n",
    "    axs.grid(alpha=0.75)\n",
    "    axs.set_xlabel(xlabel)\n",
    "    axs.set_ylabel('ECDF')"
   ]
  },
  {
   "cell_type": "code",
   "execution_count": null,
   "metadata": {
    "colab": {},
    "colab_type": "code",
    "id": "bpxapiiZZphi"
   },
   "outputs": [],
   "source": [
    "# number of Monte Carlo samples\n",
    "# use the same for all Random Variables\n",
    "n_samples = 1e6\n",
    "n_samples = np.int64(n_samples)\n"
   ]
  },
  {
   "cell_type": "code",
   "execution_count": null,
   "metadata": {
    "colab": {
     "base_uri": "https://localhost:8080/",
     "height": 330
    },
    "colab_type": "code",
    "id": "pptzRBMHZphn",
    "outputId": "b9fcd46a-aeef-4116-c201-7cf30d653ce6"
   },
   "outputs": [],
   "source": [
    "# random numbers from uniform distribution\n",
    "lower_limit = 10\n",
    "upper_limit = 20\n",
    "x_uniform = rand.uniform(low=lower_limit, high=upper_limit, size=n_samples)\n",
    "plot_distribution(x_uniform,figsize_=(8,5))"
   ]
  },
  {
   "cell_type": "code",
   "execution_count": null,
   "metadata": {
    "colab": {
     "base_uri": "https://localhost:8080/",
     "height": 330
    },
    "colab_type": "code",
    "id": "KV5Ec8ouZpht",
    "outputId": "1c1cd56c-cb1d-48cc-b7d4-f4d973f3eb35"
   },
   "outputs": [],
   "source": [
    "# generate random numbers from N(0,1)\n",
    "x_mean = 0\n",
    "x_std = 1\n",
    "x_normal = rand.normal(loc=x_mean, scale=x_std, size=n_samples)\n",
    "plot_distribution(x_normal,figsize_=(8,5))"
   ]
  },
  {
   "cell_type": "code",
   "execution_count": null,
   "metadata": {
    "colab": {
     "base_uri": "https://localhost:8080/",
     "height": 660
    },
    "colab_type": "code",
    "id": "Yn8-jQsiZphy",
    "outputId": "dfe88599-92f6-4d81-c652-0ee966157113"
   },
   "outputs": [],
   "source": [
    "# generate log-normal random variable  --> always positive because it is exponential of Normal random variable \n",
    "# this distribution is defined in \n",
    "log_x_mean = 2\n",
    "log_x_std = 1\n",
    "x_lognormal = rand.lognormal(mean=log_x_mean, sigma=log_x_std, size=n_samples)\n",
    "plot_distribution(x_normal,figsize_=(8,5))\n",
    "print('Plot the logarithm of the distribution')\n",
    "plot_distribution(np.log(x_lognormal),figsize_=(8,5))\n",
    "\n"
   ]
  },
  {
   "cell_type": "code",
   "execution_count": null,
   "metadata": {
    "colab": {
     "base_uri": "https://localhost:8080/",
     "height": 330
    },
    "colab_type": "code",
    "id": "xrNnny6FZph3",
    "outputId": "a2af1115-608e-49b1-f474-8c470d91801a"
   },
   "outputs": [],
   "source": [
    "# generate random numbers from a triangular distribution\n",
    "x_low = 0\n",
    "x_mode = 7\n",
    "x_high = 10\n",
    "x_tri = rand.triangular(left=x_low, mode=x_mode, right=x_high, size=n_samples)\n",
    "plot_distribution(x_tri,figsize_=(8,5))"
   ]
  },
  {
   "cell_type": "code",
   "execution_count": null,
   "metadata": {
    "colab": {},
    "colab_type": "code",
    "id": "SfzWQuPuZph7"
   },
   "outputs": [],
   "source": [
    "# define data distributions\n",
    "Bo= rand.uniform(low=1.19, high=1.21, size=n_samples) # units Bbl/STB\n",
    "Sw = rand.uniform(low=0.19, high=0.45, size=n_samples)\n",
    "porosity = rand.triangular(left=0.17, mode=0.213, right=0.24, size=n_samples)\n",
    "NTG = rand.uniform(low=0.13, high=0.47, size=n_samples)\n",
    "GRV = rand.triangular(left=0.55, mode=0.64, right=0.72, size=n_samples) # units 10^9 m3"
   ]
  },
  {
   "cell_type": "code",
   "execution_count": null,
   "metadata": {
    "colab": {},
    "colab_type": "code",
    "id": "H-j9oHQlZph-"
   },
   "outputs": [],
   "source": [
    "# http://www.oilfieldwiki.com/wiki/Oil_in_place\n",
    "# perform Monte Carlo simulation on the random variables \n",
    "STOIIP = 7758 * (GRV * 1e9) * porosity * (1 - Sw) / Bo # units barrels"
   ]
  },
  {
   "cell_type": "code",
   "execution_count": null,
   "metadata": {
    "colab": {
     "base_uri": "https://localhost:8080/",
     "height": 646
    },
    "colab_type": "code",
    "id": "kVC8UHnxZpiB",
    "outputId": "05d1a43f-c134-4cf0-a85f-e97a34a1b407"
   },
   "outputs": [],
   "source": [
    "# plot the distribution\n",
    "plot_distribution(STOIIP, figsize_=(8,5))\n",
    "\n",
    "# plot CDF distribution --> make sure the bins_ is small\n",
    "plot_ecdf(STOIIP, figsize_=(8,5))"
   ]
  },
  {
   "cell_type": "code",
   "execution_count": null,
   "metadata": {
    "colab": {
     "base_uri": "https://localhost:8080/",
     "height": 295
    },
    "colab_type": "code",
    "id": "bP6nJ2fnZpiF",
    "outputId": "58b9ddb8-4292-4f4b-b539-e2938f167f69"
   },
   "outputs": [],
   "source": [
    "def data_describe(x):\n",
    "    [min_value, p_1, p_10, p_50, p_90, p_99, max_value] = np.percentile(x, [0, 1, 10, 50, 90, 99, 100])\n",
    "    print('========================')\n",
    "    print('Number of Monte Carlo Samples: {:d}'.format(len(x)))\n",
    "    print('========================')\n",
    "    print('min    : {:.7e}'.format(min_value))\n",
    "    print('max    : {:.7e}'.format(max_value))\n",
    "    print('mean   : {:.7e}'.format(x.mean()))\n",
    "    print('median : {:.7e}'.format(np.median(x)))\n",
    "\n",
    "    print('std    : {:.7e}'.format(x.std()))\n",
    "    print('========================')\n",
    "    print('Data percentiles')\n",
    "    print('P1  : {:.7e}'.format(p_1))\n",
    "    print('P10 : {:.7e}'.format(p_10))\n",
    "    print('P50 : {:.7e}'.format(p_50))\n",
    "    print('P90 : {:.7e}'.format(p_90))\n",
    "    print('P99 : {:.7e}'.format(p_99))\n",
    "    print('========================')\n",
    "\n",
    "data_describe(STOIIP)"
   ]
  },
  {
   "cell_type": "code",
   "execution_count": null,
   "metadata": {
    "colab": {
     "base_uri": "https://localhost:8080/",
     "height": 1000
    },
    "colab_type": "code",
    "id": "3M6yAX8dZpiK",
    "outputId": "0d3f087d-6c1a-479e-e1af-504621a84fdb",
    "scrolled": false
   },
   "outputs": [],
   "source": [
    "import pandas as pd\n",
    "\n",
    "# define the calculations needed\n",
    "def calculate_STOIIP(df):\n",
    "    STOIIP = 7758 * (df['GRV'] * 1e3) * df['porosity']  * (1 - df['Sw']) / df['Bo'] # units barrels\n",
    "    return STOIIP\n",
    "\n",
    "# put your data into named tuples in a pandas.DataFrame \n",
    "data_df = pd.DataFrame()\n",
    "data_df['GRV'] = GRV\n",
    "data_df['porosity'] = porosity\n",
    "data_df['Sw'] = Sw\n",
    "data_df['Bo'] = Bo\n",
    "\n",
    "# perform analysis\n",
    "STOIIP = calculate_STOIIP(data_df)\n",
    "print('finished MC calucation of STOIIP')\n",
    "data_describe(STOIIP)\n",
    "plot_distribution(STOIIP, figsize_=(8,5), xlabel='STOIIP')\n",
    "plot_ecdf(STOIIP, figsize_=(8,5), xlabel='STOIIP')\n",
    "\n",
    "def sensitivity_analysis(df):\n",
    "    n_subfigures = len(df.columns)\n",
    "    fig, axs = plt.subplots(n_subfigures, 1, sharex=True, tight_layout=True, figsize=(8,5*n_subfigures))\n",
    "    sensitivity_df = df.copy()\n",
    "    for idx_ , col_ in enumerate(df.columns):\n",
    "        temp_df = df.copy()\n",
    "        for temp_col_ in temp_df.columns:\n",
    "            if temp_col_ == col_:\n",
    "                continue\n",
    "            temp_df[temp_col_] = temp_df[temp_col_].mean()\n",
    "        # perform the calculations on temp_df\n",
    "        temp_STOIIP = calculate_STOIIP(temp_df)\n",
    "        sensitivity_df[col_] = temp_STOIIP\n",
    "        plot_distribution(temp_STOIIP, axs=axs[idx_], xlabel='STOIIP_{}'.format(col_))\n",
    "        print('Sensitivity_analysis for STOIIP_{}'.format(col_))\n",
    "        data_describe(temp_STOIIP)\n",
    "\n",
    "        axs[idx_].axvline(x=temp_STOIIP.mean(), color='r')\n",
    "        axs[idx_].axvline(x=temp_STOIIP.min(), color='b')\n",
    "        axs[idx_].axvline(x=temp_STOIIP.max(), color='b')\n",
    "    return sensitivity_df\n",
    "    \n",
    "sensitivity_df = sensitivity_analysis(data_df)\n",
    "\n",
    "# fig, axs = plt.subplots(1, 1, tight_layout=True, figsize=(12, 12))\n",
    "# parts = axs.violinplot(\n",
    "#         sensitivity_df, showmeans=False, showmedians=False,\n",
    "#         showextrema=False)\n",
    "# plt.show()"
   ]
  },
  {
   "cell_type": "code",
   "execution_count": null,
   "metadata": {
    "colab": {
     "base_uri": "https://localhost:8080/",
     "height": 441
    },
    "colab_type": "code",
    "id": "OX5Ctq92ZpiN",
    "outputId": "98bc29d0-55cc-4886-8876-ecf37c806b27"
   },
   "outputs": [],
   "source": [
    "fig, axs = plt.subplots(1, 1, tight_layout=True, figsize=(12, 6))\n",
    "new_median = sensitivity_df.mean(axis=0).values\n",
    "axs.boxplot(sensitivity_df.values, labels=sensitivity_df.columns, usermedians=new_median, vert=False)\n",
    "axs.axvline(x=sensitivity_df.iloc[:,0].mean(), color='r', linewidth=2)\n",
    "axs.grid(alpha=0.75)\n",
    "# boxplot = sensitivity_df.boxplot()\n",
    "# parts = axs.violinplot(\n",
    "#         sensitivity_df, showmeans=False, showmedians=False,\n",
    "#         showextrema=False)\n",
    "plt.show()"
   ]
  },
  {
   "cell_type": "code",
   "execution_count": null,
   "metadata": {
    "colab": {},
    "colab_type": "code",
    "id": "LsCehnsiZpiR"
   },
   "outputs": [],
   "source": []
  }
 ],
 "metadata": {
  "colab": {
   "collapsed_sections": [],
   "name": "UQ_v0.ipynb",
   "provenance": []
  },
  "kernelspec": {
   "display_name": "Python 3",
   "language": "python",
   "name": "python3"
  },
  "language_info": {
   "codemirror_mode": {
    "name": "ipython",
    "version": 3
   },
   "file_extension": ".py",
   "mimetype": "text/x-python",
   "name": "python",
   "nbconvert_exporter": "python",
   "pygments_lexer": "ipython3",
   "version": "3.7.4"
  }
 },
 "nbformat": 4,
 "nbformat_minor": 1
}
