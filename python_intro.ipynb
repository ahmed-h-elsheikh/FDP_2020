{
 "cells": [
  {
   "cell_type": "markdown",
   "metadata": {},
   "source": [
    "# Python for scientific computing ecosystem\n",
    "    \n",
    "__[Most of this talk is based on these lectures ](https://scipy-lectures.org/_downloads/ScipyLectures-simple.pdf)__\n"
   ]
  },
  {
   "cell_type": "code",
   "execution_count": null,
   "metadata": {},
   "outputs": [],
   "source": [
    "my_list = ['a', 1, 3, 'name']\n",
    "print(my_list)\n",
    "print(len(my_list))"
   ]
  },
  {
   "cell_type": "code",
   "execution_count": null,
   "metadata": {},
   "outputs": [],
   "source": [
    "my_list.append(5)\n",
    "print(my_list)"
   ]
  },
  {
   "cell_type": "code",
   "execution_count": null,
   "metadata": {},
   "outputs": [],
   "source": [
    "my_list + ['fdf', 77]"
   ]
  },
  {
   "cell_type": "code",
   "execution_count": null,
   "metadata": {},
   "outputs": [],
   "source": [
    "my_list"
   ]
  },
  {
   "cell_type": "code",
   "execution_count": null,
   "metadata": {},
   "outputs": [],
   "source": [
    "my_list[:2] # slicing is uniform over all data structures"
   ]
  },
  {
   "cell_type": "markdown",
   "metadata": {},
   "source": [
    "# Functions abstraction"
   ]
  },
  {
   "cell_type": "code",
   "execution_count": null,
   "metadata": {},
   "outputs": [],
   "source": [
    "def accumulate(n):    # write accumulate function\n",
    "    result = 0\n",
    "    a = 0\n",
    "    while a < n:\n",
    "        result = result + a\n",
    "        print(a, result)\n",
    "        a = a + 1\n",
    "    return result\n",
    "# run the function\n",
    "accumulate(6)"
   ]
  },
  {
   "cell_type": "code",
   "execution_count": null,
   "metadata": {},
   "outputs": [],
   "source": [
    "import numpy as np\n",
    "from matplotlib import pyplot as plt\n",
    "import pandas as pd"
   ]
  },
  {
   "cell_type": "code",
   "execution_count": null,
   "metadata": {},
   "outputs": [],
   "source": [
    "a = np.array([0, 1, 2, 3])\n",
    "\n",
    "print(a)\n",
    "print(f'Shape of the numpy array is: {a.shape}')\n",
    "print(f'Number of dimesions: {a.ndim}')"
   ]
  },
  {
   "cell_type": "code",
   "execution_count": null,
   "metadata": {},
   "outputs": [],
   "source": [
    "a = np.arange(10)\n",
    "print(a)\n",
    "print(a.ndim)\n",
    "print(a.shape)"
   ]
  },
  {
   "cell_type": "code",
   "execution_count": null,
   "metadata": {},
   "outputs": [],
   "source": [
    "a*a"
   ]
  },
  {
   "cell_type": "code",
   "execution_count": null,
   "metadata": {},
   "outputs": [],
   "source": [
    "a**2"
   ]
  },
  {
   "cell_type": "code",
   "execution_count": null,
   "metadata": {},
   "outputs": [],
   "source": [
    "start_x = 0\n",
    "end_x = 10\n",
    "n_points = 11\n",
    "a = np.linspace(start_x, end_x, n_points)\n"
   ]
  },
  {
   "cell_type": "code",
   "execution_count": null,
   "metadata": {},
   "outputs": [],
   "source": [
    "plt.plot(a, np.cos(a), '--')\n",
    "plt.show()"
   ]
  },
  {
   "cell_type": "code",
   "execution_count": null,
   "metadata": {},
   "outputs": [],
   "source": [
    "\"\"\"\n",
    "np.random.randn(d0, d1, ..., dn)\n",
    "\n",
    "Return a sample (or samples) from the \"standard normal\" distribution.\n",
    "\n",
    ".. note::\n",
    "    This is a convenience function for users porting code from Matlab,\n",
    "    and wraps `standard_normal`. That function takes a\n",
    "    tuple to specify the size of the output, which is consistent with\n",
    "    other NumPy functions like `numpy.zeros` and `numpy.ones`.\n",
    "\"\"\"\n",
    "np.random.randn?"
   ]
  },
  {
   "cell_type": "code",
   "execution_count": null,
   "metadata": {},
   "outputs": [],
   "source": [
    "np.random.randn(3,3)"
   ]
  },
  {
   "cell_type": "code",
   "execution_count": null,
   "metadata": {},
   "outputs": [],
   "source": [
    "n_points = 100\n",
    "mean_value = 300\n",
    "xs = np.linspace(0, 10, n_points)\n",
    "ys = mean_value * xs + 1000 * np.cos(xs) + 300 * np.random.randn(n_points)\n",
    "\n",
    "plt.plot(xs, ys, '--')\n",
    "plt.fill_between(xs, ys, mean_value, where= (xs > 4), facecolor='g', alpha=0.3)\n",
    "plt.fill_between(xs, ys, mean_value, where= (xs <= 4), facecolor='y', alpha=0.7)\n",
    "\n",
    "plt.title(\"Sample Visualization\")\n",
    "plt.show()"
   ]
  },
  {
   "cell_type": "markdown",
   "metadata": {},
   "source": [
    "# Loading data from files is important"
   ]
  },
  {
   "cell_type": "code",
   "execution_count": null,
   "metadata": {},
   "outputs": [],
   "source": [
    "import numpy as np\n",
    "population_str = \"\"\"\n",
    "# year\thare\tlynx\tcarrot\n",
    "1900\t30e3\t4e3\t48300\n",
    "1901\t47.2e3\t6.1e3\t48200\n",
    "1902\t70.2e3\t9.8e3\t41500\n",
    "1903\t77.4e3\t35.2e3\t38200\n",
    "1904\t36.3e3\t59.4e3\t40600\n",
    "1905\t20.6e3\t41.7e3\t39800\n",
    "1906\t18.1e3\t19e3\t38600\n",
    "1907\t21.4e3\t13e3\t42300\n",
    "1908\t22e3\t8.3e3\t44500\n",
    "1909\t25.4e3\t9.1e3\t42100\n",
    "1910\t27.1e3\t7.4e3\t46000\n",
    "1911\t40.3e3\t8e3\t46800\n",
    "1912\t57e3\t12.3e3\t43800\n",
    "1913\t76.6e3\t19.5e3\t40900\n",
    "1914\t52.3e3\t45.7e3\t39400\n",
    "1915\t19.5e3\t51.1e3\t39000\n",
    "1916\t11.2e3\t29.7e3\t36700\n",
    "1917\t7.6e3\t15.8e3\t41800\n",
    "1918\t14.6e3\t9.7e3\t43300\n",
    "1919\t16.2e3\t10.1e3\t41300\n",
    "1920\t24.7e3\t8.6e3\t47300\"\"\"\n",
    "\n",
    "# the following is a hack around to read a string as if it is a file\n",
    "import io\n",
    "population_txt = io.StringIO(population_str)\n",
    "data_np = np.loadtxt(population_txt, comments='#', skiprows=0) \n",
    "# data_np = loadtxt('data/populations.txt')\n",
    "\n",
    "print(f'current data: \\n {data_np}')"
   ]
  },
  {
   "cell_type": "code",
   "execution_count": null,
   "metadata": {},
   "outputs": [],
   "source": [
    "data_np.T"
   ]
  },
  {
   "cell_type": "code",
   "execution_count": null,
   "metadata": {},
   "outputs": [],
   "source": [
    "# array data.T --> transpose\n",
    "year, hares, lynxes, carrots = data_np.T # trick: columns to variables\n",
    "import matplotlib.pyplot as plt\n",
    "fig = plt.figure(figsize=(12,7))\n",
    "plt.plot(year, hares, year, lynxes, year, carrots)\n",
    "plt.legend(('Hare', 'Lynx', 'Carrot'), loc=(.77, 0.75))\n",
    "\n",
    "plt.xlim(year.min(), year.max())\n",
    "plt.xticks(np.linspace(year.min(), year.max(), 5))\n",
    "\n",
    "plt.ylim(0, 80_000)\n",
    "plt.yticks(np.linspace(0, 80_000, 9))\n",
    "\n",
    "plt.grid(True)\n",
    "plt.show()"
   ]
  },
  {
   "cell_type": "code",
   "execution_count": null,
   "metadata": {},
   "outputs": [],
   "source": [
    "def dummy_math_func(x, y):\n",
    "    return (1 - x / 2 + x ** 5 + y ** 3) * np.exp(-x ** 2 -y ** 2)\n",
    "\n",
    "n = 256\n",
    "x = np.linspace(-3, 3, n) \n",
    "y = np.linspace(-3, 3, n)\n",
    "\n",
    "X, Y = np.meshgrid(x, y)\n",
    "Z = dummy_math_func(X, Y)\n",
    "fig = plt.figure(figsize=(10,10))\n",
    "plt.contourf(X, Y, Z, 8, alpha=.75, cmap='jet')\n",
    "C = plt.contour(X, Y, Z, 8, colors='black')\n",
    "plt.show()"
   ]
  },
  {
   "cell_type": "code",
   "execution_count": null,
   "metadata": {},
   "outputs": [],
   "source": [
    "import matplotlib.pyplot as plt\n",
    "from mpl_toolkits.mplot3d import Axes3D\n",
    "\n",
    "fig = plt.figure()\n",
    "ax = Axes3D(fig)\n",
    "ax.plot_surface(X, Y, Z, rstride=1, cstride=1, cmap='hot')"
   ]
  },
  {
   "cell_type": "code",
   "execution_count": null,
   "metadata": {},
   "outputs": [],
   "source": [
    "population_txt.seek(0)  # reset the start of pointer to the string start\n",
    "data_df = pd.read_csv(population_txt, sep='\\t')\n",
    "print(data_df)"
   ]
  },
  {
   "cell_type": "code",
   "execution_count": null,
   "metadata": {},
   "outputs": [],
   "source": [
    "print(data_df.columns)\n",
    "data_df.columns = ['year', 'hare', 'lynx', 'carrot']\n",
    "print(data_df.columns)"
   ]
  },
  {
   "cell_type": "code",
   "execution_count": null,
   "metadata": {},
   "outputs": [],
   "source": [
    "data_df.set_index('year', inplace=True)\n",
    "print(data_df)"
   ]
  },
  {
   "cell_type": "code",
   "execution_count": null,
   "metadata": {},
   "outputs": [],
   "source": [
    "print(data_df.loc[1900])\n",
    "print(data_df.hare)"
   ]
  },
  {
   "cell_type": "code",
   "execution_count": null,
   "metadata": {},
   "outputs": [],
   "source": [
    "data_df.hare.rolling(window=3).mean()"
   ]
  },
  {
   "cell_type": "code",
   "execution_count": null,
   "metadata": {},
   "outputs": [],
   "source": [
    "data_df.hare.plot()\n",
    "data_df.hare.rolling(window=2).mean().plot()"
   ]
  },
  {
   "cell_type": "code",
   "execution_count": null,
   "metadata": {},
   "outputs": [],
   "source": [
    "data_df.describe()"
   ]
  },
  {
   "cell_type": "code",
   "execution_count": null,
   "metadata": {},
   "outputs": [],
   "source": [
    "import seaborn as sns\n",
    "ax = sns.pairplot(data_df, vars=['hare', 'lynx', 'carrot'], kind='reg')\n",
    "# pd.plotting.scatter_matrix(data_df[['hare', 'lynx', 'carrot']], figsize=(10, 10))\n"
   ]
  },
  {
   "cell_type": "code",
   "execution_count": null,
   "metadata": {},
   "outputs": [],
   "source": [
    "g = sns.pairplot(data_df, diag_kind=\"kde\")\n",
    "g.map_lower(sns.kdeplot, levels=3, color=\".2\")"
   ]
  },
  {
   "cell_type": "code",
   "execution_count": null,
   "metadata": {},
   "outputs": [],
   "source": [
    "import pandas as pd\n",
    "olympics_df = pd.read_csv(\"https://raw.githubusercontent.com/mojones/binders/master/olympics.csv\", sep=\"\\t\")\n",
    "print(olympics_df)\n",
    "olympics_df['Country'].value_counts().head(30)\n",
    "olympics_df['Country'].value_counts().head(30).plot(kind='barh', figsize=(20,10))"
   ]
  },
  {
   "cell_type": "code",
   "execution_count": null,
   "metadata": {},
   "outputs": [],
   "source": [
    "from sklearn.linear_model import LinearRegression\n",
    "\n",
    "def math_func(x):\n",
    "    return 0.5 * x + 1.0 + 3*np.random.normal(size=x.shape)\n",
    "\n",
    "x_max = 100\n",
    "\n",
    "x = x_max * np.random.random((20, 1)) \n",
    "\n",
    "# y = a*x + b with noise\n",
    "y = math_func(x)\n",
    "\n",
    "# create a linear regression model\n",
    "model = LinearRegression()\n",
    "model.fit(x, y)\n",
    "\n",
    "# predict y from the data\n",
    "x_new = np.linspace(0, x_max, 50)\n",
    "y_true = math_func(x_new)\n",
    "y_pred = model.predict(x_new[:, None])\n",
    "\n",
    "\n",
    "fig = plt.figure(figsize=(12,12))\n",
    "plt.plot(x,y, '*', c='b')\n",
    "plt.plot(x_new,y_true, 'x', c='r')\n",
    "plt.plot(x_new,y_pred, '-o', c='k')\n",
    "# plt.xlim(0, 100)\n",
    "plt.grid(True)\n",
    "plt.show()\n",
    "\n",
    "\n",
    "fig = plt.figure(figsize=(12,12))\n",
    "ax = fig.add_subplot(111)\n",
    "\n",
    "ax.scatter(y_true, y_pred)\n",
    "plt.xlabel('reference')\n",
    "plt.ylabel('prediction')\n",
    "plt.grid(True)\n",
    "plt.show()\n"
   ]
  },
  {
   "cell_type": "code",
   "execution_count": null,
   "metadata": {},
   "outputs": [],
   "source": [
    "from sklearn.metrics import mean_squared_error, max_error\n",
    "max_e = max_error(y_true, y_pred)\n",
    "mse = mean_squared_error(y_true, y_pred)\n",
    "print(mse, max_e)\n"
   ]
  },
  {
   "cell_type": "code",
   "execution_count": null,
   "metadata": {},
   "outputs": [],
   "source": [
    "y_true = y_true.reshape(-1, 1) # (n_samples, n_outputs)\n",
    "print(y_true.shape)\n",
    "np_mse = np.mean((y_true.reshape(-1, 1) - y_pred) ** 2)\n",
    "print(f\"Mean square error: {np_mse}\")"
   ]
  },
  {
   "cell_type": "code",
   "execution_count": null,
   "metadata": {},
   "outputs": [],
   "source": [
    "from sklearn.pipeline import make_pipeline\n",
    "from sklearn.preprocessing import PolynomialFeatures\n",
    "model = make_pipeline(PolynomialFeatures(degree=7), LinearRegression())\n",
    "\n",
    "\n",
    "model.fit(x, y)\n",
    "# predict y from the data\n",
    "x_new = np.linspace(0, x_max, 50)\n",
    "y_true = math_func(x_new)\n",
    "y_pred = model.predict(x_new[:, None])\n",
    "\n",
    "\n",
    "fig = plt.figure(figsize=(12,12))\n",
    "plt.plot(x,y, '*', c='b')\n",
    "plt.plot(x_new,y_true, 'x', c='r')\n",
    "plt.plot(x_new,y_pred, '-o', c='k')\n",
    "plt.grid(True)\n",
    "plt.show()\n",
    "\n",
    "\n",
    "fig = plt.figure(figsize=(12,12))\n",
    "ax = fig.add_subplot(111)\n",
    "\n",
    "ax.scatter(y_true, y_pred)\n",
    "plt.xlabel('reference')\n",
    "plt.ylabel('prediction')\n",
    "plt.grid(True)\n",
    "plt.show()"
   ]
  },
  {
   "cell_type": "code",
   "execution_count": null,
   "metadata": {},
   "outputs": [],
   "source": [
    "max_e = max_error(y_true, y_pred)\n",
    "mse = mean_squared_error(y_true, y_pred)\n",
    "print(mse, max_e)\n"
   ]
  },
  {
   "cell_type": "code",
   "execution_count": null,
   "metadata": {},
   "outputs": [],
   "source": [
    "# example of clustering\n",
    "centers = [[1, 1], [-1, -1], [1, -1]]\n",
    "n_points = 100\n",
    "data_list = []\n",
    "label_list = []\n",
    "n_clusters = len(centers)\n",
    "for idx_, center_ in enumerate(centers):\n",
    "    # print(idx_, center_)\n",
    "    data_list.append(center_ + 0.2*np.random.randn(n_points, 2))\n",
    "    label_list.append(n_points*[idx_])\n",
    "    \n",
    "data_np = np.concatenate(data_list)\n",
    "labels_np = np.concatenate(label_list)\n",
    "\n",
    "color_list = ['k', 'g', 'b']\n",
    "fig = plt.figure(figsize=(8, 8))\n",
    "ax = fig.add_subplot(111)\n",
    "\n",
    "for c_ in range(n_clusters):\n",
    "    c_filter = (labels_np == c_)\n",
    "    ax.scatter(data_np[c_filter, 0], data_np[c_filter, 1], \n",
    "               color=color_list[c_], marker='*')\n",
    "    \n",
    "plt.show()"
   ]
  },
  {
   "cell_type": "code",
   "execution_count": null,
   "metadata": {},
   "outputs": [],
   "source": [
    "import time\n",
    "\n",
    "from sklearn.cluster import KMeans\n",
    "\n",
    "k_means = KMeans(n_clusters=3, n_init=10)\n",
    "t0 = time.time()\n",
    "k_means.fit(data_np)\n",
    "t_batch = time.time() - t0"
   ]
  },
  {
   "cell_type": "code",
   "execution_count": null,
   "metadata": {},
   "outputs": [],
   "source": [
    "print(k_means.labels_)\n",
    "print(k_means.cluster_centers_)\n"
   ]
  },
  {
   "cell_type": "code",
   "execution_count": null,
   "metadata": {},
   "outputs": [],
   "source": []
  }
 ],
 "metadata": {
  "kernelspec": {
   "display_name": "Python 3",
   "language": "python",
   "name": "python3"
  },
  "language_info": {
   "codemirror_mode": {
    "name": "ipython",
    "version": 3
   },
   "file_extension": ".py",
   "mimetype": "text/x-python",
   "name": "python",
   "nbconvert_exporter": "python",
   "pygments_lexer": "ipython3",
   "version": "3.7.6"
  }
 },
 "nbformat": 4,
 "nbformat_minor": 4
}
